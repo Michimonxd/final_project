{
 "cells": [
  {
   "cell_type": "code",
   "execution_count": 3,
   "id": "57bebe09-9a93-4f5f-a8d0-ae9d53a5e15e",
   "metadata": {},
   "outputs": [
    {
     "name": "stdout",
     "output_type": "stream",
     "text": [
      "File 'streamlit_app.py' has been saved successfully.\n"
     ]
    }
   ],
   "source": [
    "# Code to create and save 'streamlit_app.py' from Jupyter Notebook\n",
    "code = \"\"\"\n",
    "import numpy as np\n",
    "import joblib  # To load the trained model and scaler\n",
    "import streamlit as st\n",
    "\n",
    "# Load the trained model and scaler\n",
    "model = joblib.load('rf_smote_model.pkl')\n",
    "scaler = joblib.load('scaler.pkl')\n",
    "\n",
    "st.title(\"IoT Security Monitoring\")\n",
    "st.write(\"Enter the feature values as comma-separated numbers:\")\n",
    "\n",
    "# Input for feature values\n",
    "features = st.text_input(\"Feature values (comma-separated):\")\n",
    "\n",
    "if st.button(\"Send IoT Data\"):\n",
    "    try:\n",
    "        # Convert input string to a NumPy array\n",
    "        features_array = np.array([float(x) for x in features.split(\",\")]).reshape(1, -1)\n",
    "        \n",
    "        # Normalize the input features using the loaded scaler\n",
    "        features_scaled = scaler.transform(features_array)\n",
    "        \n",
    "        # Make predictions\n",
    "        prediction = model.predict(features_scaled)\n",
    "        prediction_proba = model.predict_proba(features_scaled)\n",
    "\n",
    "        # Display the prediction status\n",
    "        status = \"Attack Detected\" if prediction[0] else \"No Attack\"\n",
    "        st.write(f\"Status: {status}\")\n",
    "        st.write(f\"Confidence: Class 0: {prediction_proba[0][0]:.2f}, Class 1: {prediction_proba[0][1]:.2f}\")\n",
    "    except ValueError:\n",
    "        st.error(\"Please enter valid numeric feature values.\")\n",
    "    except Exception as e:\n",
    "        st.error(f\"An error occurred: {e}\")\n",
    "\"\"\"\n",
    "\n",
    "# Write the code to a Python file\n",
    "with open('streamlit_app.py', 'w') as file:\n",
    "    file.write(code)\n",
    "\n",
    "print(\"File 'streamlit_app.py' has been saved successfully.\")\n"
   ]
  },
  {
   "cell_type": "code",
   "execution_count": 6,
   "id": "e22cd420-20b1-433f-a7ad-c47d5a92b3c9",
   "metadata": {},
   "outputs": [
    {
     "ename": "SyntaxError",
     "evalue": "invalid syntax (1817081337.py, line 1)",
     "output_type": "error",
     "traceback": [
      "\u001b[1;36m  Cell \u001b[1;32mIn[6], line 1\u001b[1;36m\u001b[0m\n\u001b[1;33m    streamlit run streamlit_app.py\u001b[0m\n\u001b[1;37m              ^\u001b[0m\n\u001b[1;31mSyntaxError\u001b[0m\u001b[1;31m:\u001b[0m invalid syntax\n"
     ]
    }
   ],
   "source": [
    "streamlit run streamlit_app.py"
   ]
  },
  {
   "cell_type": "code",
   "execution_count": null,
   "id": "69eb0aa0-7e1c-4e8a-ac3e-908648c803bd",
   "metadata": {},
   "outputs": [],
   "source": []
  }
 ],
 "metadata": {
  "kernelspec": {
   "display_name": "Python 3 (ipykernel)",
   "language": "python",
   "name": "python3"
  },
  "language_info": {
   "codemirror_mode": {
    "name": "ipython",
    "version": 3
   },
   "file_extension": ".py",
   "mimetype": "text/x-python",
   "name": "python",
   "nbconvert_exporter": "python",
   "pygments_lexer": "ipython3",
   "version": "3.12.4"
  }
 },
 "nbformat": 4,
 "nbformat_minor": 5
}
